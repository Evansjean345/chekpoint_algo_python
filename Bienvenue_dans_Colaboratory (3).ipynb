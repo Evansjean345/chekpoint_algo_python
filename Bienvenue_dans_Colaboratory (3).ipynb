{
  "cells": [
    {
      "cell_type": "code",
      "source": [
        "#question 1\n",
        "\n",
        "my_list=[1,2,3,5,8]\n",
        "debut=0\n",
        "list_lenght=5\n",
        "fin=list_lenght-1\n",
        "\n",
        "def binary(my_list,debut,fin,i):\n",
        "    \n",
        "    if fin >= debut:\n",
        "        mil= int(debut + fin )//2\n",
        "        if my_list[mil] == i :\n",
        "            print(True)\n",
        "        elif my_list[mil] > i :\n",
        "          return binary(my_list,debut,mil-1,i)\n",
        "        else:\n",
        "          return binary(my_list,mil+1,fin,i)\n",
        "    else:\n",
        "      print(False)\n",
        "\n",
        "\n",
        "for i in range(5,7):\n",
        "     binary(my_list,debut,fin,i)\n",
        "\n",
        "\n",
        "binary(my_list,debut,fin,i)\n"
      ],
      "metadata": {
        "id": "EIN_GMBXVnY8",
        "outputId": "65e5f8e9-deaf-4c43-dbd2-a2489b6a8122",
        "colab": {
          "base_uri": "https://localhost:8080/"
        }
      },
      "execution_count": 18,
      "outputs": [
        {
          "output_type": "stream",
          "name": "stdout",
          "text": [
            "True\n",
            "False\n",
            "False\n"
          ]
        }
      ]
    },
    {
      "cell_type": "code",
      "source": [
        "#question 2\n",
        "\n",
        "def powerful(var1,var2) :\n",
        "    c = var1**var2\n",
        "    return c\n",
        "\n",
        "powerful(3,4)   "
      ],
      "metadata": {
        "id": "s6i96mFi_zbH",
        "outputId": "146166ff-cafe-481f-b2ef-b481d96c91dd",
        "colab": {
          "base_uri": "https://localhost:8080/"
        }
      },
      "execution_count": 20,
      "outputs": [
        {
          "output_type": "execute_result",
          "data": {
            "text/plain": [
              "81"
            ]
          },
          "metadata": {},
          "execution_count": 20
        }
      ]
    },
    {
      "cell_type": "code",
      "source": [
        "#question 3\n",
        "def bubble(list1):\n",
        "    for i in range(len(list1)-1,0,-1):\n",
        "        for a in range(i):\n",
        "          if list1[a]>list1[a+1]:\n",
        "              init=list1[a]\n",
        "              list1[a]=list1[a+1]\n",
        "              list1[a+1]=init\n",
        "    return list1\n",
        "\n",
        "list1=[29,13,22,37,52,49,46,71,56]\n",
        "bubble(list1)"
      ],
      "metadata": {
        "id": "HLa5rliwAyO0",
        "outputId": "fa55a813-bba0-4a2e-b9b0-8e056ad75612",
        "colab": {
          "base_uri": "https://localhost:8080/"
        }
      },
      "execution_count": 22,
      "outputs": [
        {
          "output_type": "execute_result",
          "data": {
            "text/plain": [
              "[13, 22, 29, 37, 46, 49, 52, 56, 71]"
            ]
          },
          "metadata": {},
          "execution_count": 22
        }
      ]
    },
    {
      "cell_type": "code",
      "source": [
        "#question 4\n",
        "\n",
        "def partition(tab,start,end):\n",
        "    pivot=tab[start]\n",
        "    low=start+1\n",
        "    hight=end\n",
        "    \n",
        "    while True :\n",
        "      while low <= hight and tab[start] >= pivot:\n",
        "          hight = hight -1\n",
        "\n",
        "      while low <= hight and tab[low] <= pivot :\n",
        "          low = low+1\n",
        "          \n",
        "      if low <= hight:\n",
        "            tab[low] , tab[hight] = tab[hight],tab[low]\n",
        "      else :\n",
        "        break \n",
        "\n",
        "    tab[start], tab[hight] = tab[hight] , tab[start]\n",
        "    return hight\n",
        "\n",
        "def quick_sort(tab,start,end):\n",
        "    if start >= end :\n",
        "        return \n",
        "    s = partition(tab,start,end)\n",
        "    quick_sort(tab,start,s-1)\n",
        "    quick_sort(tab,s+1,end)\n",
        "\n",
        "tab=[29,13,22,37,52,49,46,71,56]\n",
        "quick_sort(tab,0,len(tab)-1)\n",
        "print(tab)"
      ],
      "metadata": {
        "id": "l94wAoebEFU2",
        "outputId": "3c41ad0d-86f8-473a-ef4f-8ae5eede3c3d",
        "colab": {
          "base_uri": "https://localhost:8080/"
        }
      },
      "execution_count": 27,
      "outputs": [
        {
          "output_type": "stream",
          "name": "stdout",
          "text": [
            "[29, 13, 22, 37, 52, 49, 46, 71, 56]\n"
          ]
        }
      ]
    },
    {
      "cell_type": "code",
      "source": [
        "#question 5 \n",
        "\n",
        "def tri_f(my_list2):\n",
        "    if len(my_list2) > 1 :\n",
        "        middle=len(my_list2)//2\n",
        "        left=my_list2[:middle]\n",
        "        right=my_list2[middle:]\n",
        "\n",
        "        tri_f(left)\n",
        "        tri_f(right)\n",
        "\n",
        "        i=0\n",
        "        j=0\n",
        "        k=0\n",
        "\n",
        "        while i < len(left) and j < len(right):\n",
        "            if left[i] < right[j] :\n",
        "              my_list2[k] = left[i]\n",
        "              i=i+1\n",
        "            else :\n",
        "              my_list2[k] = right[j]\n",
        "              j +=1\n",
        "        k+=1\n",
        "\n",
        "        while i < len(left) :\n",
        "            my_list2[k] = left[i]\n",
        "            i += 1\n",
        "            k += 1\n",
        "\n",
        "        while j < len(right) :\n",
        "            my_list2[k]= right[j]\n",
        "            j += 1\n",
        "            k += 1\n",
        "\n",
        "my_list2=[29,13,22,37,52,49,46,71,56]\n",
        "tri_f(my_list2)\n",
        "print(my_list2)"
      ],
      "metadata": {
        "id": "90fhf0O0ITNR",
        "outputId": "252b1abe-05a1-4fcb-b1e3-d9d64f13f7ab",
        "colab": {
          "base_uri": "https://localhost:8080/"
        }
      },
      "execution_count": 28,
      "outputs": [
        {
          "output_type": "stream",
          "name": "stdout",
          "text": [
            "[37, 52, 56, 71, 71, 56, 46, 71, 56]\n"
          ]
        }
      ]
    }
  ],
  "metadata": {
    "colab": {
      "collapsed_sections": [],
      "name": "Bienvenue dans Colaboratory",
      "toc_visible": true,
      "provenance": []
    },
    "kernelspec": {
      "display_name": "Python 3",
      "name": "python3"
    }
  },
  "nbformat": 4,
  "nbformat_minor": 0
}